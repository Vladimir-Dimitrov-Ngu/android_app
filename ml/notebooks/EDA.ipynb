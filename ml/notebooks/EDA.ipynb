{
 "cells": [
  {
   "cell_type": "code",
   "execution_count": 213,
   "id": "initial_id",
   "metadata": {
    "collapsed": true,
    "ExecuteTime": {
     "end_time": "2023-11-20T09:18:04.934686Z",
     "start_time": "2023-11-20T09:18:04.801297Z"
    }
   },
   "outputs": [],
   "source": [
    "# !unzip data/raw/dataset.zip"
   ]
  },
  {
   "cell_type": "code",
   "execution_count": 214,
   "outputs": [],
   "source": [
    "import pandas as pd\n",
    "import numpy as np\n",
    "import seaborn as sns\n",
    "import matplotlib.pyplot as plt\n",
    "\n",
    "import warnings\n",
    "\n",
    "warnings.filterwarnings(\"ignore\")\n",
    "\n",
    "sns.set_style(style=\"whitegrid\")"
   ],
   "metadata": {
    "collapsed": false,
    "ExecuteTime": {
     "end_time": "2023-11-20T09:18:04.939011Z",
     "start_time": "2023-11-20T09:18:04.808283Z"
    }
   },
   "id": "fb50139432245a08"
  },
  {
   "cell_type": "markdown",
   "source": [
    "### Preprocessing"
   ],
   "metadata": {
    "collapsed": false
   },
   "id": "ea4d37d5cc646759"
  },
  {
   "cell_type": "code",
   "execution_count": 215,
   "outputs": [],
   "source": [
    "df = pd.read_csv(\"data/raw/TUANDROMD.csv\")"
   ],
   "metadata": {
    "collapsed": false,
    "ExecuteTime": {
     "end_time": "2023-11-20T09:18:04.954338Z",
     "start_time": "2023-11-20T09:18:04.808383Z"
    }
   },
   "id": "2a8d5fa24fe32af5"
  },
  {
   "cell_type": "code",
   "execution_count": 216,
   "outputs": [
    {
     "name": "stdout",
     "output_type": "stream",
     "text": [
      "Изначальные размеры датасета (4465, 242)\n"
     ]
    }
   ],
   "source": [
    "print(\"Изначальные размеры датасета\", df.shape)"
   ],
   "metadata": {
    "collapsed": false,
    "ExecuteTime": {
     "end_time": "2023-11-20T09:18:04.962784Z",
     "start_time": "2023-11-20T09:18:04.894928Z"
    }
   },
   "id": "3909cdd91fbfdef7"
  },
  {
   "cell_type": "code",
   "execution_count": 217,
   "outputs": [
    {
     "data": {
      "text/plain": "   ACCESS_ALL_DOWNLOADS  ACCESS_CACHE_FILESYSTEM  ACCESS_CHECKIN_PROPERTIES  \\\n0                   0.0                      0.0                        0.0   \n1                   0.0                      0.0                        0.0   \n2                   0.0                      0.0                        0.0   \n3                   0.0                      0.0                        0.0   \n4                   0.0                      0.0                        0.0   \n\n   ACCESS_COARSE_LOCATION  ACCESS_COARSE_UPDATES  ACCESS_FINE_LOCATION  \\\n0                     0.0                    0.0                   0.0   \n1                     0.0                    0.0                   0.0   \n2                     0.0                    0.0                   0.0   \n3                     0.0                    0.0                   0.0   \n4                     0.0                    0.0                   0.0   \n\n   ACCESS_LOCATION_EXTRA_COMMANDS  ACCESS_MOCK_LOCATION  ACCESS_MTK_MMHW  \\\n0                             0.0                   0.0              0.0   \n1                             0.0                   0.0              0.0   \n2                             0.0                   0.0              0.0   \n3                             0.0                   0.0              0.0   \n4                             0.0                   0.0              0.0   \n\n   ACCESS_NETWORK_STATE  ...  \\\n0                   1.0  ...   \n1                   1.0  ...   \n2                   1.0  ...   \n3                   0.0  ...   \n4                   0.0  ...   \n\n   Landroid/telephony/TelephonyManager;->getLine1Number  \\\n0                                                1.0      \n1                                                0.0      \n2                                                0.0      \n3                                                0.0      \n4                                                0.0      \n\n   Landroid/telephony/TelephonyManager;->getNetworkOperator  \\\n0                                                1.0          \n1                                                0.0          \n2                                                0.0          \n3                                                1.0          \n4                                                0.0          \n\n   Landroid/telephony/TelephonyManager;->getNetworkOperatorName  \\\n0                                                1.0              \n1                                                0.0              \n2                                                0.0              \n3                                                1.0              \n4                                                0.0              \n\n   Landroid/telephony/TelephonyManager;->getNetworkCountryIso  \\\n0                                                0.0            \n1                                                1.0            \n2                                                0.0            \n3                                                1.0            \n4                                                0.0            \n\n   Landroid/telephony/TelephonyManager;->getSimOperator  \\\n0                                                0.0      \n1                                                0.0      \n2                                                0.0      \n3                                                1.0      \n4                                                0.0      \n\n   Landroid/telephony/TelephonyManager;->getSimOperatorName  \\\n0                                                0.0          \n1                                                0.0          \n2                                                0.0          \n3                                                0.0          \n4                                                0.0          \n\n   Landroid/telephony/TelephonyManager;->getSimCountryIso  \\\n0                                                0.0        \n1                                                1.0        \n2                                                0.0        \n3                                                1.0        \n4                                                0.0        \n\n   Landroid/telephony/TelephonyManager;->getSimSerialNumber  \\\n0                                                0.0          \n1                                                0.0          \n2                                                0.0          \n3                                                0.0          \n4                                                0.0          \n\n   Lorg/apache/http/impl/client/DefaultHttpClient;->execute  Label  \n0                                                1.0           1.0  \n1                                                0.0           1.0  \n2                                                0.0           1.0  \n3                                                0.0           1.0  \n4                                                0.0           1.0  \n\n[5 rows x 242 columns]",
      "text/html": "<div>\n<style scoped>\n    .dataframe tbody tr th:only-of-type {\n        vertical-align: middle;\n    }\n\n    .dataframe tbody tr th {\n        vertical-align: top;\n    }\n\n    .dataframe thead th {\n        text-align: right;\n    }\n</style>\n<table border=\"1\" class=\"dataframe\">\n  <thead>\n    <tr style=\"text-align: right;\">\n      <th></th>\n      <th>ACCESS_ALL_DOWNLOADS</th>\n      <th>ACCESS_CACHE_FILESYSTEM</th>\n      <th>ACCESS_CHECKIN_PROPERTIES</th>\n      <th>ACCESS_COARSE_LOCATION</th>\n      <th>ACCESS_COARSE_UPDATES</th>\n      <th>ACCESS_FINE_LOCATION</th>\n      <th>ACCESS_LOCATION_EXTRA_COMMANDS</th>\n      <th>ACCESS_MOCK_LOCATION</th>\n      <th>ACCESS_MTK_MMHW</th>\n      <th>ACCESS_NETWORK_STATE</th>\n      <th>...</th>\n      <th>Landroid/telephony/TelephonyManager;-&gt;getLine1Number</th>\n      <th>Landroid/telephony/TelephonyManager;-&gt;getNetworkOperator</th>\n      <th>Landroid/telephony/TelephonyManager;-&gt;getNetworkOperatorName</th>\n      <th>Landroid/telephony/TelephonyManager;-&gt;getNetworkCountryIso</th>\n      <th>Landroid/telephony/TelephonyManager;-&gt;getSimOperator</th>\n      <th>Landroid/telephony/TelephonyManager;-&gt;getSimOperatorName</th>\n      <th>Landroid/telephony/TelephonyManager;-&gt;getSimCountryIso</th>\n      <th>Landroid/telephony/TelephonyManager;-&gt;getSimSerialNumber</th>\n      <th>Lorg/apache/http/impl/client/DefaultHttpClient;-&gt;execute</th>\n      <th>Label</th>\n    </tr>\n  </thead>\n  <tbody>\n    <tr>\n      <th>0</th>\n      <td>0.0</td>\n      <td>0.0</td>\n      <td>0.0</td>\n      <td>0.0</td>\n      <td>0.0</td>\n      <td>0.0</td>\n      <td>0.0</td>\n      <td>0.0</td>\n      <td>0.0</td>\n      <td>1.0</td>\n      <td>...</td>\n      <td>1.0</td>\n      <td>1.0</td>\n      <td>1.0</td>\n      <td>0.0</td>\n      <td>0.0</td>\n      <td>0.0</td>\n      <td>0.0</td>\n      <td>0.0</td>\n      <td>1.0</td>\n      <td>1.0</td>\n    </tr>\n    <tr>\n      <th>1</th>\n      <td>0.0</td>\n      <td>0.0</td>\n      <td>0.0</td>\n      <td>0.0</td>\n      <td>0.0</td>\n      <td>0.0</td>\n      <td>0.0</td>\n      <td>0.0</td>\n      <td>0.0</td>\n      <td>1.0</td>\n      <td>...</td>\n      <td>0.0</td>\n      <td>0.0</td>\n      <td>0.0</td>\n      <td>1.0</td>\n      <td>0.0</td>\n      <td>0.0</td>\n      <td>1.0</td>\n      <td>0.0</td>\n      <td>0.0</td>\n      <td>1.0</td>\n    </tr>\n    <tr>\n      <th>2</th>\n      <td>0.0</td>\n      <td>0.0</td>\n      <td>0.0</td>\n      <td>0.0</td>\n      <td>0.0</td>\n      <td>0.0</td>\n      <td>0.0</td>\n      <td>0.0</td>\n      <td>0.0</td>\n      <td>1.0</td>\n      <td>...</td>\n      <td>0.0</td>\n      <td>0.0</td>\n      <td>0.0</td>\n      <td>0.0</td>\n      <td>0.0</td>\n      <td>0.0</td>\n      <td>0.0</td>\n      <td>0.0</td>\n      <td>0.0</td>\n      <td>1.0</td>\n    </tr>\n    <tr>\n      <th>3</th>\n      <td>0.0</td>\n      <td>0.0</td>\n      <td>0.0</td>\n      <td>0.0</td>\n      <td>0.0</td>\n      <td>0.0</td>\n      <td>0.0</td>\n      <td>0.0</td>\n      <td>0.0</td>\n      <td>0.0</td>\n      <td>...</td>\n      <td>0.0</td>\n      <td>1.0</td>\n      <td>1.0</td>\n      <td>1.0</td>\n      <td>1.0</td>\n      <td>0.0</td>\n      <td>1.0</td>\n      <td>0.0</td>\n      <td>0.0</td>\n      <td>1.0</td>\n    </tr>\n    <tr>\n      <th>4</th>\n      <td>0.0</td>\n      <td>0.0</td>\n      <td>0.0</td>\n      <td>0.0</td>\n      <td>0.0</td>\n      <td>0.0</td>\n      <td>0.0</td>\n      <td>0.0</td>\n      <td>0.0</td>\n      <td>0.0</td>\n      <td>...</td>\n      <td>0.0</td>\n      <td>0.0</td>\n      <td>0.0</td>\n      <td>0.0</td>\n      <td>0.0</td>\n      <td>0.0</td>\n      <td>0.0</td>\n      <td>0.0</td>\n      <td>0.0</td>\n      <td>1.0</td>\n    </tr>\n  </tbody>\n</table>\n<p>5 rows × 242 columns</p>\n</div>"
     },
     "execution_count": 217,
     "metadata": {},
     "output_type": "execute_result"
    }
   ],
   "source": [
    "df.head(5)"
   ],
   "metadata": {
    "collapsed": false,
    "ExecuteTime": {
     "end_time": "2023-11-20T09:18:04.975977Z",
     "start_time": "2023-11-20T09:18:04.913506Z"
    }
   },
   "id": "6c9b6b90e5d1954c"
  },
  {
   "cell_type": "code",
   "execution_count": 218,
   "outputs": [
    {
     "name": "stdout",
     "output_type": "stream",
     "text": [
      "<class 'pandas.core.frame.DataFrame'>\n",
      "RangeIndex: 4465 entries, 0 to 4464\n",
      "Columns: 242 entries, ACCESS_ALL_DOWNLOADS to Label\n",
      "dtypes: float64(242)\n",
      "memory usage: 8.2 MB\n"
     ]
    }
   ],
   "source": [
    "df.info()"
   ],
   "metadata": {
    "collapsed": false,
    "ExecuteTime": {
     "end_time": "2023-11-20T09:18:04.976182Z",
     "start_time": "2023-11-20T09:18:04.923720Z"
    }
   },
   "id": "2d807caf021a4e44"
  },
  {
   "cell_type": "code",
   "execution_count": 219,
   "outputs": [
    {
     "data": {
      "text/plain": "       ACCESS_ALL_DOWNLOADS  ACCESS_CACHE_FILESYSTEM  \\\ncount           4464.000000              4464.000000   \nmean               0.000896                 0.000896   \nstd                0.029924                 0.029924   \nmin                0.000000                 0.000000   \n25%                0.000000                 0.000000   \n50%                0.000000                 0.000000   \n75%                0.000000                 0.000000   \nmax                1.000000                 1.000000   \n\n       ACCESS_CHECKIN_PROPERTIES  ACCESS_COARSE_LOCATION  \\\ncount                4464.000000             4464.000000   \nmean                    0.004928                0.083333   \nstd                     0.070037                0.276416   \nmin                     0.000000                0.000000   \n25%                     0.000000                0.000000   \n50%                     0.000000                0.000000   \n75%                     0.000000                0.000000   \nmax                     1.000000                1.000000   \n\n       ACCESS_COARSE_UPDATES  ACCESS_FINE_LOCATION  \\\ncount            4464.000000           4464.000000   \nmean                0.006944              0.087814   \nstd                 0.083053              0.283055   \nmin                 0.000000              0.000000   \n25%                 0.000000              0.000000   \n50%                 0.000000              0.000000   \n75%                 0.000000              0.000000   \nmax                 1.000000              1.000000   \n\n       ACCESS_LOCATION_EXTRA_COMMANDS  ACCESS_MOCK_LOCATION  ACCESS_MTK_MMHW  \\\ncount                     4464.000000           4464.000000      4464.000000   \nmean                         0.022849              0.023746         0.000224   \nstd                          0.149440              0.152272         0.014967   \nmin                          0.000000              0.000000         0.000000   \n25%                          0.000000              0.000000         0.000000   \n50%                          0.000000              0.000000         0.000000   \n75%                          0.000000              0.000000         0.000000   \nmax                          1.000000              1.000000         1.000000   \n\n       ACCESS_NETWORK_STATE  ...  \\\ncount           4464.000000  ...   \nmean               0.596326  ...   \nstd                0.490689  ...   \nmin                0.000000  ...   \n25%                0.000000  ...   \n50%                1.000000  ...   \n75%                1.000000  ...   \nmax                1.000000  ...   \n\n       Landroid/telephony/TelephonyManager;->getLine1Number  \\\ncount                                        4464.000000      \nmean                                            0.173163      \nstd                                             0.378431      \nmin                                             0.000000      \n25%                                             0.000000      \n50%                                             0.000000      \n75%                                             0.000000      \nmax                                             1.000000      \n\n       Landroid/telephony/TelephonyManager;->getNetworkOperator  \\\ncount                                        4464.000000          \nmean                                            0.245520          \nstd                                             0.430443          \nmin                                             0.000000          \n25%                                             0.000000          \n50%                                             0.000000          \n75%                                             0.000000          \nmax                                             1.000000          \n\n       Landroid/telephony/TelephonyManager;->getNetworkOperatorName  \\\ncount                                        4464.000000              \nmean                                            0.215950              \nstd                                             0.411526              \nmin                                             0.000000              \n25%                                             0.000000              \n50%                                             0.000000              \n75%                                             0.000000              \nmax                                             1.000000              \n\n       Landroid/telephony/TelephonyManager;->getNetworkCountryIso  \\\ncount                                        4464.000000            \nmean                                            0.091622            \nstd                                             0.288524            \nmin                                             0.000000            \n25%                                             0.000000            \n50%                                             0.000000            \n75%                                             0.000000            \nmax                                             1.000000            \n\n       Landroid/telephony/TelephonyManager;->getSimOperator  \\\ncount                                        4464.000000      \nmean                                            0.088710      \nstd                                             0.284356      \nmin                                             0.000000      \n25%                                             0.000000      \n50%                                             0.000000      \n75%                                             0.000000      \nmax                                             1.000000      \n\n       Landroid/telephony/TelephonyManager;->getSimOperatorName  \\\ncount                                        4464.000000          \nmean                                            0.056228          \nstd                                             0.230387          \nmin                                             0.000000          \n25%                                             0.000000          \n50%                                             0.000000          \n75%                                             0.000000          \nmax                                             1.000000          \n\n       Landroid/telephony/TelephonyManager;->getSimCountryIso  \\\ncount                                        4464.000000        \nmean                                            0.133065        \nstd                                             0.339682        \nmin                                             0.000000        \n25%                                             0.000000        \n50%                                             0.000000        \n75%                                             0.000000        \nmax                                             1.000000        \n\n       Landroid/telephony/TelephonyManager;->getSimSerialNumber  \\\ncount                                        4464.000000          \nmean                                            0.013665          \nstd                                             0.116108          \nmin                                             0.000000          \n25%                                             0.000000          \n50%                                             0.000000          \n75%                                             0.000000          \nmax                                             1.000000          \n\n       Lorg/apache/http/impl/client/DefaultHttpClient;->execute        Label  \ncount                                        4464.000000         4464.000000  \nmean                                            0.150090            0.798611  \nstd                                             0.357199            0.401083  \nmin                                             0.000000            0.000000  \n25%                                             0.000000            1.000000  \n50%                                             0.000000            1.000000  \n75%                                             0.000000            1.000000  \nmax                                             1.000000            1.000000  \n\n[8 rows x 242 columns]",
      "text/html": "<div>\n<style scoped>\n    .dataframe tbody tr th:only-of-type {\n        vertical-align: middle;\n    }\n\n    .dataframe tbody tr th {\n        vertical-align: top;\n    }\n\n    .dataframe thead th {\n        text-align: right;\n    }\n</style>\n<table border=\"1\" class=\"dataframe\">\n  <thead>\n    <tr style=\"text-align: right;\">\n      <th></th>\n      <th>ACCESS_ALL_DOWNLOADS</th>\n      <th>ACCESS_CACHE_FILESYSTEM</th>\n      <th>ACCESS_CHECKIN_PROPERTIES</th>\n      <th>ACCESS_COARSE_LOCATION</th>\n      <th>ACCESS_COARSE_UPDATES</th>\n      <th>ACCESS_FINE_LOCATION</th>\n      <th>ACCESS_LOCATION_EXTRA_COMMANDS</th>\n      <th>ACCESS_MOCK_LOCATION</th>\n      <th>ACCESS_MTK_MMHW</th>\n      <th>ACCESS_NETWORK_STATE</th>\n      <th>...</th>\n      <th>Landroid/telephony/TelephonyManager;-&gt;getLine1Number</th>\n      <th>Landroid/telephony/TelephonyManager;-&gt;getNetworkOperator</th>\n      <th>Landroid/telephony/TelephonyManager;-&gt;getNetworkOperatorName</th>\n      <th>Landroid/telephony/TelephonyManager;-&gt;getNetworkCountryIso</th>\n      <th>Landroid/telephony/TelephonyManager;-&gt;getSimOperator</th>\n      <th>Landroid/telephony/TelephonyManager;-&gt;getSimOperatorName</th>\n      <th>Landroid/telephony/TelephonyManager;-&gt;getSimCountryIso</th>\n      <th>Landroid/telephony/TelephonyManager;-&gt;getSimSerialNumber</th>\n      <th>Lorg/apache/http/impl/client/DefaultHttpClient;-&gt;execute</th>\n      <th>Label</th>\n    </tr>\n  </thead>\n  <tbody>\n    <tr>\n      <th>count</th>\n      <td>4464.000000</td>\n      <td>4464.000000</td>\n      <td>4464.000000</td>\n      <td>4464.000000</td>\n      <td>4464.000000</td>\n      <td>4464.000000</td>\n      <td>4464.000000</td>\n      <td>4464.000000</td>\n      <td>4464.000000</td>\n      <td>4464.000000</td>\n      <td>...</td>\n      <td>4464.000000</td>\n      <td>4464.000000</td>\n      <td>4464.000000</td>\n      <td>4464.000000</td>\n      <td>4464.000000</td>\n      <td>4464.000000</td>\n      <td>4464.000000</td>\n      <td>4464.000000</td>\n      <td>4464.000000</td>\n      <td>4464.000000</td>\n    </tr>\n    <tr>\n      <th>mean</th>\n      <td>0.000896</td>\n      <td>0.000896</td>\n      <td>0.004928</td>\n      <td>0.083333</td>\n      <td>0.006944</td>\n      <td>0.087814</td>\n      <td>0.022849</td>\n      <td>0.023746</td>\n      <td>0.000224</td>\n      <td>0.596326</td>\n      <td>...</td>\n      <td>0.173163</td>\n      <td>0.245520</td>\n      <td>0.215950</td>\n      <td>0.091622</td>\n      <td>0.088710</td>\n      <td>0.056228</td>\n      <td>0.133065</td>\n      <td>0.013665</td>\n      <td>0.150090</td>\n      <td>0.798611</td>\n    </tr>\n    <tr>\n      <th>std</th>\n      <td>0.029924</td>\n      <td>0.029924</td>\n      <td>0.070037</td>\n      <td>0.276416</td>\n      <td>0.083053</td>\n      <td>0.283055</td>\n      <td>0.149440</td>\n      <td>0.152272</td>\n      <td>0.014967</td>\n      <td>0.490689</td>\n      <td>...</td>\n      <td>0.378431</td>\n      <td>0.430443</td>\n      <td>0.411526</td>\n      <td>0.288524</td>\n      <td>0.284356</td>\n      <td>0.230387</td>\n      <td>0.339682</td>\n      <td>0.116108</td>\n      <td>0.357199</td>\n      <td>0.401083</td>\n    </tr>\n    <tr>\n      <th>min</th>\n      <td>0.000000</td>\n      <td>0.000000</td>\n      <td>0.000000</td>\n      <td>0.000000</td>\n      <td>0.000000</td>\n      <td>0.000000</td>\n      <td>0.000000</td>\n      <td>0.000000</td>\n      <td>0.000000</td>\n      <td>0.000000</td>\n      <td>...</td>\n      <td>0.000000</td>\n      <td>0.000000</td>\n      <td>0.000000</td>\n      <td>0.000000</td>\n      <td>0.000000</td>\n      <td>0.000000</td>\n      <td>0.000000</td>\n      <td>0.000000</td>\n      <td>0.000000</td>\n      <td>0.000000</td>\n    </tr>\n    <tr>\n      <th>25%</th>\n      <td>0.000000</td>\n      <td>0.000000</td>\n      <td>0.000000</td>\n      <td>0.000000</td>\n      <td>0.000000</td>\n      <td>0.000000</td>\n      <td>0.000000</td>\n      <td>0.000000</td>\n      <td>0.000000</td>\n      <td>0.000000</td>\n      <td>...</td>\n      <td>0.000000</td>\n      <td>0.000000</td>\n      <td>0.000000</td>\n      <td>0.000000</td>\n      <td>0.000000</td>\n      <td>0.000000</td>\n      <td>0.000000</td>\n      <td>0.000000</td>\n      <td>0.000000</td>\n      <td>1.000000</td>\n    </tr>\n    <tr>\n      <th>50%</th>\n      <td>0.000000</td>\n      <td>0.000000</td>\n      <td>0.000000</td>\n      <td>0.000000</td>\n      <td>0.000000</td>\n      <td>0.000000</td>\n      <td>0.000000</td>\n      <td>0.000000</td>\n      <td>0.000000</td>\n      <td>1.000000</td>\n      <td>...</td>\n      <td>0.000000</td>\n      <td>0.000000</td>\n      <td>0.000000</td>\n      <td>0.000000</td>\n      <td>0.000000</td>\n      <td>0.000000</td>\n      <td>0.000000</td>\n      <td>0.000000</td>\n      <td>0.000000</td>\n      <td>1.000000</td>\n    </tr>\n    <tr>\n      <th>75%</th>\n      <td>0.000000</td>\n      <td>0.000000</td>\n      <td>0.000000</td>\n      <td>0.000000</td>\n      <td>0.000000</td>\n      <td>0.000000</td>\n      <td>0.000000</td>\n      <td>0.000000</td>\n      <td>0.000000</td>\n      <td>1.000000</td>\n      <td>...</td>\n      <td>0.000000</td>\n      <td>0.000000</td>\n      <td>0.000000</td>\n      <td>0.000000</td>\n      <td>0.000000</td>\n      <td>0.000000</td>\n      <td>0.000000</td>\n      <td>0.000000</td>\n      <td>0.000000</td>\n      <td>1.000000</td>\n    </tr>\n    <tr>\n      <th>max</th>\n      <td>1.000000</td>\n      <td>1.000000</td>\n      <td>1.000000</td>\n      <td>1.000000</td>\n      <td>1.000000</td>\n      <td>1.000000</td>\n      <td>1.000000</td>\n      <td>1.000000</td>\n      <td>1.000000</td>\n      <td>1.000000</td>\n      <td>...</td>\n      <td>1.000000</td>\n      <td>1.000000</td>\n      <td>1.000000</td>\n      <td>1.000000</td>\n      <td>1.000000</td>\n      <td>1.000000</td>\n      <td>1.000000</td>\n      <td>1.000000</td>\n      <td>1.000000</td>\n      <td>1.000000</td>\n    </tr>\n  </tbody>\n</table>\n<p>8 rows × 242 columns</p>\n</div>"
     },
     "execution_count": 219,
     "metadata": {},
     "output_type": "execute_result"
    }
   ],
   "source": [
    "df.describe()"
   ],
   "metadata": {
    "collapsed": false,
    "ExecuteTime": {
     "end_time": "2023-11-20T09:18:05.122446Z",
     "start_time": "2023-11-20T09:18:04.926253Z"
    }
   },
   "id": "1b6c216eb0eb3f4b"
  },
  {
   "cell_type": "code",
   "execution_count": 220,
   "outputs": [
    {
     "name": "stdout",
     "output_type": "stream",
     "text": [
      "После удаления дубликатов 663\n"
     ]
    }
   ],
   "source": [
    "df.drop_duplicates(inplace=True)\n",
    "print(\"После удаления дубликатов\", df.shape[0])  # очень много дубликатов"
   ],
   "metadata": {
    "collapsed": false,
    "ExecuteTime": {
     "end_time": "2023-11-20T09:18:05.122970Z",
     "start_time": "2023-11-20T09:18:05.067328Z"
    }
   },
   "id": "b569feb0dcd0981f"
  },
  {
   "cell_type": "code",
   "execution_count": 221,
   "outputs": [],
   "source": [
    "df.isna().sum().sort_values(ascending=False)  # 1 строчка с пропущенным значением\n",
    "index_drop = df[df.isna().any(axis=1)]\n",
    "df.drop(index=index_drop.index, inplace=True)"
   ],
   "metadata": {
    "collapsed": false,
    "ExecuteTime": {
     "end_time": "2023-11-20T09:18:05.123235Z",
     "start_time": "2023-11-20T09:18:05.087694Z"
    }
   },
   "id": "d761dddd966bace7"
  },
  {
   "cell_type": "code",
   "execution_count": 222,
   "outputs": [
    {
     "name": "stdout",
     "output_type": "stream",
     "text": [
      "Количество категориальных признаков: 200\n"
     ]
    }
   ],
   "source": [
    "categorical = []\n",
    "any = []\n",
    "for column in df.columns:\n",
    "    if df[column].dtype == \"float64\" and df[column].value_counts().shape[0] == 2:\n",
    "        df[column] = df[column].astype(int)\n",
    "        categorical.append(column)\n",
    "    elif df[column].value_counts().shape[0] == 1:\n",
    "        df.drop(columns=[column], inplace=True, axis=1)\n",
    "    else:\n",
    "        any.append(column)\n",
    "print(\"Количество категориальных признаков:\", len(categorical))"
   ],
   "metadata": {
    "collapsed": false,
    "ExecuteTime": {
     "end_time": "2023-11-20T09:18:05.311876Z",
     "start_time": "2023-11-20T09:18:05.093592Z"
    }
   },
   "id": "21031c2b67884b79"
  },
  {
   "cell_type": "code",
   "execution_count": 223,
   "outputs": [
    {
     "data": {
      "text/plain": "Label\n0        531\n1        131\nName: count, dtype: int64"
     },
     "execution_count": 223,
     "metadata": {},
     "output_type": "execute_result"
    }
   ],
   "source": [
    "target = df[[\"Label\"]]\n",
    "target.value_counts()  # дисбаланс классов"
   ],
   "metadata": {
    "collapsed": false,
    "ExecuteTime": {
     "end_time": "2023-11-20T09:18:05.312418Z",
     "start_time": "2023-11-20T09:18:05.183110Z"
    }
   },
   "id": "495ed49116184def"
  },
  {
   "cell_type": "code",
   "execution_count": 224,
   "outputs": [
    {
     "name": "stdout",
     "output_type": "stream",
     "text": [
      "Размеры датасета после обработки (662, 200)\n"
     ]
    }
   ],
   "source": [
    "print(\"Размеры датасета после обработки\", df.shape)"
   ],
   "metadata": {
    "collapsed": false,
    "ExecuteTime": {
     "end_time": "2023-11-20T09:18:05.312610Z",
     "start_time": "2023-11-20T09:18:05.187416Z"
    }
   },
   "id": "d62c8d6dc466c673"
  },
  {
   "cell_type": "code",
   "execution_count": 225,
   "outputs": [],
   "source": [
    "df.to_csv(\"data/interim/TUANDROMD_clear.csv\", index=False)"
   ],
   "metadata": {
    "collapsed": false,
    "ExecuteTime": {
     "end_time": "2023-11-20T09:18:05.312804Z",
     "start_time": "2023-11-20T09:18:05.192320Z"
    }
   },
   "id": "b996890c6ee17095"
  },
  {
   "cell_type": "markdown",
   "source": [
    "### EDA"
   ],
   "metadata": {
    "collapsed": false
   },
   "id": "126fa71c80562002"
  },
  {
   "cell_type": "code",
   "execution_count": 226,
   "outputs": [
    {
     "data": {
      "text/plain": "<Axes: xlabel='Label', ylabel='count'>"
     },
     "execution_count": 226,
     "metadata": {},
     "output_type": "execute_result"
    },
    {
     "data": {
      "text/plain": "<Figure size 640x480 with 1 Axes>",
      "image/png": "[encoded data removed]"
     },
     "metadata": {},
     "output_type": "display_data"
    }
   ],
   "source": [
    "sns.countplot(data=df, x=\"Label\")"
   ],
   "metadata": {
    "collapsed": false,
    "ExecuteTime": {
     "end_time": "2023-11-20T09:18:05.392048Z",
     "start_time": "2023-11-20T09:18:05.228470Z"
    }
   },
   "id": "ddda3c245c842f44"
  },
  {
   "cell_type": "code",
   "execution_count": 227,
   "outputs": [
    {
     "data": {
      "text/plain": "<Axes: xlabel='SUBSCRIBED_FEEDS_WRITE', ylabel='count'>"
     },
     "execution_count": 227,
     "metadata": {},
     "output_type": "execute_result"
    },
    {
     "data": {
      "text/plain": "<Figure size 640x480 with 1 Axes>",
      "image/png": "[encoded data removed]"
     },
     "metadata": {},
     "output_type": "display_data"
    }
   ],
   "source": [
    "random_number = np.random.randint(0, len(categorical) - 1)\n",
    "sns.countplot(data=df, x=categorical[random_number])"
   ],
   "metadata": {
    "collapsed": false,
    "ExecuteTime": {
     "end_time": "2023-11-20T09:18:05.577993Z",
     "start_time": "2023-11-20T09:18:05.302058Z"
    }
   },
   "id": "4e0d817cc9c53809"
  },
  {
   "cell_type": "code",
   "execution_count": 228,
   "outputs": [
    {
     "data": {
      "text/plain": "<matplotlib.legend.Legend at 0x13bb67990>"
     },
     "execution_count": 228,
     "metadata": {},
     "output_type": "execute_result"
    },
    {
     "data": {
      "text/plain": "<Figure size 640x480 with 1 Axes>",
      "image/png": "[encoded data removed]"
     },
     "metadata": {},
     "output_type": "display_data"
    }
   ],
   "source": [
    "plt.hist(df[\"Label\"], bins=2, alpha=0.1, color=\"red\")\n",
    "plt.hist(df[categorical[random_number]], bins=2, alpha=0.1, color=\"blue\")\n",
    "plt.title(\"\")\n",
    "plt.legend([\"Label\", f\"{categorical[random_number]}\"])"
   ],
   "metadata": {
    "collapsed": false,
    "ExecuteTime": {
     "end_time": "2023-11-20T09:18:05.599597Z",
     "start_time": "2023-11-20T09:18:05.386528Z"
    }
   },
   "id": "6ab41ed1468015fe"
  }
 ],
 "metadata": {
  "kernelspec": {
   "display_name": "Python 3",
   "language": "python",
   "name": "python3"
  },
  "language_info": {
   "codemirror_mode": {
    "name": "ipython",
    "version": 2
   },
   "file_extension": ".py",
   "mimetype": "text/x-python",
   "name": "python",
   "nbconvert_exporter": "python",
   "pygments_lexer": "ipython2",
   "version": "2.7.6"
  }
 },
 "nbformat": 4,
 "nbformat_minor": 5
}
