{
 "cells": [
  {
   "cell_type": "code",
   "execution_count": 14,
   "id": "initial_id",
   "metadata": {
    "ExecuteTime": {
     "end_time": "2023-11-30T12:42:30.535198Z",
     "start_time": "2023-11-30T12:42:30.529548Z"
    },
    "collapsed": true
   },
   "outputs": [],
   "source": [
    "import pandas as pd\n",
    "import numpy as np\n",
    "import pickle\n",
    "import os\n",
    "\n",
    "from sklearn.tree import DecisionTreeClassifier\n",
    "from sklearn.model_selection import train_test_split\n",
    "from sklearn.metrics import accuracy_score, confusion_matrix, classification_report\n",
    "\n",
    "os.chdir(\"/Users/vladimirdimitrov/My_dev\")"
   ]
  },
  {
   "cell_type": "code",
   "execution_count": 15,
   "id": "1e2dd585bf2dd80f",
   "metadata": {
    "ExecuteTime": {
     "end_time": "2023-11-30T12:42:04.816295Z",
     "start_time": "2023-11-30T12:42:04.808311Z"
    },
    "collapsed": false
   },
   "outputs": [],
   "source": [
    "TEST_SIZE = 0.2\n",
    "RANDOM_STATE = 42"
   ]
  },
  {
   "cell_type": "code",
   "execution_count": 16,
   "id": "f5d1f51ad9d16a2b",
   "metadata": {
    "ExecuteTime": {
     "end_time": "2023-11-30T12:42:05.475846Z",
     "start_time": "2023-11-30T12:42:05.459577Z"
    },
    "collapsed": false
   },
   "outputs": [],
   "source": [
    "df = pd.read_csv(\"data/interim/TUANDROMD_clear.csv\")\n",
    "X = df.drop(\"Label\", axis=1)\n",
    "y = df[\"Label\"]"
   ]
  },
  {
   "cell_type": "code",
   "execution_count": 17,
   "id": "87b3aed50b23bb8c",
   "metadata": {
    "ExecuteTime": {
     "end_time": "2023-11-30T12:42:06.892110Z",
     "start_time": "2023-11-30T12:42:06.837954Z"
    },
    "collapsed": false
   },
   "outputs": [],
   "source": [
    "X_train, X_test, y_train, y_test = train_test_split(\n",
    "    X,\n",
    "    y,\n",
    "    test_size=TEST_SIZE,\n",
    "    random_state=RANDOM_STATE,\n",
    "    stratify=df[\"Label\"],\n",
    "    shuffle=True,\n",
    ")"
   ]
  },
  {
   "cell_type": "code",
   "execution_count": 22,
   "metadata": {},
   "outputs": [
    {
     "data": {
      "text/plain": [
       "(529, 199)"
      ]
     },
     "execution_count": 22,
     "metadata": {},
     "output_type": "execute_result"
    }
   ],
   "source": [
    "X_train.shape"
   ]
  },
  {
   "cell_type": "code",
   "execution_count": 18,
   "id": "30dee22b4c8a220e",
   "metadata": {
    "ExecuteTime": {
     "end_time": "2023-11-30T12:42:07.522269Z",
     "start_time": "2023-11-30T12:42:07.492111Z"
    },
    "collapsed": false
   },
   "outputs": [
    {
     "name": "stdout",
     "output_type": "stream",
     "text": [
      "0.9022556390977443\n"
     ]
    }
   ],
   "source": [
    "model = DecisionTreeClassifier(random_state=RANDOM_STATE)\n",
    "model.fit(X_train, y_train)\n",
    "predict = model.predict(X_test)\n",
    "print(model.score(X_test, y_test))"
   ]
  },
  {
   "cell_type": "code",
   "execution_count": 19,
   "id": "9520fbd8d516defd",
   "metadata": {
    "ExecuteTime": {
     "end_time": "2023-11-30T12:42:08.039583Z",
     "start_time": "2023-11-30T12:42:07.979465Z"
    },
    "collapsed": false
   },
   "outputs": [
    {
     "name": "stdout",
     "output_type": "stream",
     "text": [
      "Classification Report\n",
      "\n",
      "\n",
      "              precision    recall  f1-score   support\n",
      "\n",
      "           0       0.96      0.92      0.94       107\n",
      "           1       0.71      0.85      0.77        26\n",
      "\n",
      "    accuracy                           0.90       133\n",
      "   macro avg       0.84      0.88      0.85       133\n",
      "weighted avg       0.91      0.90      0.91       133\n",
      "\n",
      "Confusion Matrix\n",
      "\n",
      "\n",
      "[[98  9]\n",
      " [ 4 22]]\n"
     ]
    }
   ],
   "source": [
    "print(\"Classification Report\")\n",
    "print(\"\\n\")\n",
    "print(classification_report(y_test, predict))\n",
    "print(\"Confusion Matrix\")\n",
    "print(\"\\n\")\n",
    "print(confusion_matrix(y_test, predict))"
   ]
  },
  {
   "cell_type": "code",
   "execution_count": 20,
   "id": "fc3b9d382625431c",
   "metadata": {
    "ExecuteTime": {
     "end_time": "2023-11-30T12:51:05.554257Z",
     "start_time": "2023-11-30T12:51:04.676959Z"
    },
    "collapsed": false
   },
   "outputs": [],
   "source": [
    "filename = \"weights/decision_tree.sav\"\n",
    "pickle.dump(model, open(filename, \"wb\"))"
   ]
  }
 ],
 "metadata": {
  "kernelspec": {
   "display_name": "Python 3",
   "language": "python",
   "name": "python3"
  },
  "language_info": {
   "codemirror_mode": {
    "name": "ipython",
    "version": 3
   },
   "file_extension": ".py",
   "mimetype": "text/x-python",
   "name": "python",
   "nbconvert_exporter": "python",
   "pygments_lexer": "ipython3",
   "version": "3.11.5"
  }
 },
 "nbformat": 4,
 "nbformat_minor": 5
}
